{
 "cells": [
  {
   "cell_type": "code",
   "execution_count": null,
   "metadata": {},
   "outputs": [],
   "source": [
    "import compress_pickle as cp\n",
    "import pandas as pd"
   ]
  },
  {
   "cell_type": "markdown",
   "source": [
    "Loading the dataframe with the metrics calculated for each experiment"
   ],
   "metadata": {
    "collapsed": false
   }
  },
  {
   "cell_type": "code",
   "execution_count": null,
   "metadata": {
    "collapsed": false,
    "jupyter": {
     "outputs_hidden": false
    }
   },
   "outputs": [],
   "source": [
    "final = cp.load('./metrics/ee_metrics_x_experiments_df.gz')"
   ]
  },
  {
   "cell_type": "markdown",
   "source": [
    "Expanding mr_feel metric"
   ],
   "metadata": {
    "collapsed": false
   }
  },
  {
   "cell_type": "code",
   "execution_count": null,
   "outputs": [],
   "source": [
    "final[['macromatch_rate_feel', 'undermatch_rate_feel', 'overmatch_rate_feel']] = final['mr_feel'].apply(lambda x: pd.Series(x))\n",
    "#final = final.drop('mr_feel', axis=1)"
   ],
   "metadata": {
    "collapsed": false
   }
  },
  {
   "cell_type": "markdown",
   "source": [
    "Expanding MRuMR_macro metric"
   ],
   "metadata": {
    "collapsed": false
   }
  },
  {
   "cell_type": "code",
   "execution_count": null,
   "outputs": [],
   "source": [
    "final[['macromatch_rate', 'unmatch_rate']] = final['MRuMR_macro'].apply(lambda x: pd.Series(x))\n",
    "#final = final.drop('MRuMR_macro', axis=1)"
   ],
   "metadata": {
    "collapsed": false
   }
  },
  {
   "cell_type": "markdown",
   "source": [
    "Expanding cep metric"
   ],
   "metadata": {
    "collapsed": false
   }
  },
  {
   "cell_type": "code",
   "execution_count": null,
   "outputs": [],
   "source": [
    "final[['cep_c', 'cep_co', 'cep_cu', 'cep_o', 'cep_ozero', 'cep_u', 'cep_total', 'cep_cp', 'cep_cop', 'cep_cup', 'cep_cx', 'cep_op', 'cep_ozp', 'cep_up']] = final['cep'].apply(lambda x: pd.Series(x))\n",
    "final = final.drop('cep', axis=1)"
   ],
   "metadata": {
    "collapsed": false
   }
  },
  {
   "cell_type": "markdown",
   "source": [
    "Extracting value from list of abse metric"
   ],
   "metadata": {
    "collapsed": false
   }
  },
  {
   "cell_type": "code",
   "execution_count": null,
   "outputs": [],
   "source": [
    "final['abse'] = final['abse'].apply(lambda x: x[0])"
   ],
   "metadata": {
    "collapsed": false
   }
  },
  {
   "cell_type": "markdown",
   "source": [
    "Extracting value from list of ae metric"
   ],
   "metadata": {
    "collapsed": false
   }
  },
  {
   "cell_type": "code",
   "execution_count": null,
   "outputs": [],
   "source": [
    "final['ae'] = final['ae'].apply(lambda x: x[0])"
   ],
   "metadata": {
    "collapsed": false
   }
  },
  {
   "cell_type": "markdown",
   "source": [
    "Extracting value from list of sde metric"
   ],
   "metadata": {
    "collapsed": false
   }
  },
  {
   "cell_type": "code",
   "execution_count": null,
   "outputs": [],
   "source": [
    "final['sde'] = final['sde'].apply(lambda x: x[0])"
   ],
   "metadata": {
    "collapsed": false
   }
  },
  {
   "cell_type": "markdown",
   "source": [
    "Extracting value from list of cep metrics"
   ],
   "metadata": {
    "collapsed": false
   }
  },
  {
   "cell_type": "code",
   "execution_count": null,
   "outputs": [],
   "source": [
    "final['cep_c'] = final['cep_c'].apply(lambda x: x if type(x)==type(1) else x[0])\n",
    "final['cep_co'] = final['cep_co'].apply(lambda x: x if type(x)==type(1) else x[0])\n",
    "final['cep_cu'] = final['cep_cu'].apply(lambda x: x if type(x)==type(1) else x[0])\n",
    "final['cep_o'] = final['cep_o'].apply(lambda x: x if type(x)==type(1) else x[0])\n",
    "final['cep_ozero'] = final['cep_ozero'].apply(lambda x: x if type(x)==type(1) else x[0])\n",
    "final['cep_u'] = final['cep_u'].apply(lambda x: x if type(x)==type(1) else x[0])\n",
    "final['cep_total'] = final['cep_total'].apply(lambda x: x if type(x)==type(1) else x[0])\n",
    "final['cep_cp'] = final['cep_cp'].apply(lambda x: x if type(x)==type(1) else x[0])\n",
    "final['cep_cop'] = final['cep_cop'].apply(lambda x: x if type(x)==type(1) else x[0])\n",
    "final['cep_cup'] = final['cep_cup'].apply(lambda x: x if type(x)==type(1) else x[0])\n",
    "final['cep_cx'] = final['cep_cx'].apply(lambda x: x if type(x)==type(1) else x[0])\n",
    "final['cep_op'] = final['cep_op'].apply(lambda x: x if type(x)==type(1) else x[0])\n",
    "final['cep_ozp'] = final['cep_ozp'].apply(lambda x: x if type(x)==type(1.1) else x[0])\n",
    "final['cep_up'] = final['cep_up'].apply(lambda x: x if type(x)==type(1) else x[0])"
   ],
   "metadata": {
    "collapsed": false
   }
  },
  {
   "cell_type": "markdown",
   "source": [
    "Saving the expanded dataframe"
   ],
   "metadata": {
    "collapsed": false
   }
  },
  {
   "cell_type": "code",
   "execution_count": null,
   "outputs": [],
   "source": [
    "cp.dump(final, './metrics/ee_metrics_x_experiments_df_NEW1.gz', compression='gzip')"
   ],
   "metadata": {
    "collapsed": false
   }
  }
 ],
 "metadata": {
  "kernelspec": {
   "display_name": "Python 3 (ipykernel)",
   "language": "python",
   "name": "python3"
  },
  "language_info": {
   "codemirror_mode": {
    "name": "ipython",
    "version": 3
   },
   "file_extension": ".py",
   "mimetype": "text/x-python",
   "name": "python",
   "nbconvert_exporter": "python",
   "pygments_lexer": "ipython3",
   "version": "3.10.12"
  }
 },
 "nbformat": 4,
 "nbformat_minor": 4
}
