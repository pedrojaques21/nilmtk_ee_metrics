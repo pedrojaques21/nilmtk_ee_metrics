{
 "cells": [
  {
   "cell_type": "code",
   "execution_count": 1,
   "metadata": {
    "collapsed": true,
    "ExecuteTime": {
     "end_time": "2023-06-19T22:44:39.560112600Z",
     "start_time": "2023-06-19T22:44:39.495195600Z"
    }
   },
   "outputs": [],
   "source": [
    "import compress_pickle as cp\n",
    "import os"
   ]
  },
  {
   "cell_type": "code",
   "execution_count": 3,
   "metadata": {
    "ExecuteTime": {
     "end_time": "2023-06-19T22:50:24.741721400Z",
     "start_time": "2023-06-19T22:50:24.733452Z"
    }
   },
   "outputs": [],
   "source": [
    "#get all files in directory\n",
    "methods_path = ['CO/', 'FHMME/', 'Hart85/', 'Mean/', 'RNN/']\n",
    "appliances_path = ['DW/', 'FF/', 'FR/', 'FZ/', 'KT/', 'MW/', 'TV/', 'WM/']\n",
    "path = '../experiments/NILMTK/'\n",
    "experiments_gt_and_pred_df = {}\n",
    "experiments_error = []"
   ]
  },
  {
   "cell_type": "code",
   "execution_count": 4,
   "outputs": [],
   "source": [
    "for method in methods_path:\n",
    "    if method == 'RNN/':\n",
    "        files = os.listdir(path + method)\n",
    "        files = [file for file in files if '.gz' in file]\n",
    "        for f in files:\n",
    "            try:\n",
    "                api = cp.load(path + method + f)\n",
    "                experiments_gt_and_pred_df.update({f: {'gt': api.gt_overall,\n",
    "                                                       'pred': api.pred_overall[api.classifiers[0][0]]}})\n",
    "            except:\n",
    "                experiments_error.append(f)\n",
    "    else:\n",
    "        for appliance in appliances_path:\n",
    "            files = os.listdir(path + method + appliance)\n",
    "            files = [file for file in files if '.gz' in file]\n",
    "            for f in files:\n",
    "                try:\n",
    "                    api = cp.load(path + method + appliance + f)\n",
    "                    experiments_gt_and_pred_df.update({f: {'gt': api.gt_overall,\n",
    "                                                           'pred': api.pred_overall[api.classifiers[0][0]]}})\n",
    "                except:\n",
    "                    experiments_error.append(f)"
   ],
   "metadata": {
    "collapsed": false,
    "ExecuteTime": {
     "end_time": "2023-06-19T22:52:48.421550300Z",
     "start_time": "2023-06-19T22:50:33.597920400Z"
    }
   }
  },
  {
   "cell_type": "code",
   "execution_count": 5,
   "outputs": [],
   "source": [
    "cp.dump(experiments_gt_and_pred_df, '../experiments/NILMTK/experiments_gt_and_pred_df.gz', compression='gzip')"
   ],
   "metadata": {
    "collapsed": false,
    "ExecuteTime": {
     "end_time": "2023-06-19T23:43:18.536422300Z",
     "start_time": "2023-06-19T22:53:43.751886900Z"
    }
   }
  }
 ],
 "metadata": {
  "kernelspec": {
   "display_name": "Python 3 (ipykernel)",
   "language": "python",
   "name": "python3"
  },
  "language_info": {
   "codemirror_mode": {
    "name": "ipython",
    "version": 3
   },
   "file_extension": ".py",
   "mimetype": "text/x-python",
   "name": "python",
   "nbconvert_exporter": "python",
   "pygments_lexer": "ipython3",
   "version": "3.7.12"
  }
 },
 "nbformat": 4,
 "nbformat_minor": 1
}
