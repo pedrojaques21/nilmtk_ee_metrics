{
 "cells": [
  {
   "cell_type": "code",
   "execution_count": 1,
   "metadata": {
    "collapsed": true,
    "ExecuteTime": {
     "end_time": "2023-07-07T16:12:47.762440200Z",
     "start_time": "2023-07-07T16:12:41.408905700Z"
    }
   },
   "outputs": [
    {
     "ename": "KeyboardInterrupt",
     "evalue": "",
     "output_type": "error",
     "traceback": [
      "\u001B[1;31m---------------------------------------------------------------------------\u001B[0m",
      "\u001B[1;31mKeyboardInterrupt\u001B[0m                         Traceback (most recent call last)",
      "Cell \u001B[1;32mIn[1], line 2\u001B[0m\n\u001B[0;32m      1\u001B[0m \u001B[38;5;28;01mimport\u001B[39;00m \u001B[38;5;21;01mcompress_pickle\u001B[39;00m \u001B[38;5;28;01mas\u001B[39;00m \u001B[38;5;21;01mcp\u001B[39;00m\n\u001B[1;32m----> 2\u001B[0m \u001B[38;5;28;01mfrom\u001B[39;00m \u001B[38;5;21;01mmetrics\u001B[39;00m\u001B[38;5;21;01m.\u001B[39;00m\u001B[38;5;21;01menergy_estimation\u001B[39;00m \u001B[38;5;28;01mimport\u001B[39;00m MetricsEE\n",
      "File \u001B[1;32m~\\OneDrive - Universidade da Madeira\\Universidade\\4º ANO\\2º SEMESTRE\\Projeto\\code\\metrics\\energy_estimation.py:6\u001B[0m\n\u001B[0;32m      3\u001B[0m \u001B[38;5;28;01mimport\u001B[39;00m \u001B[38;5;21;01mmath\u001B[39;00m\n\u001B[0;32m      5\u001B[0m \u001B[38;5;28;01mimport\u001B[39;00m \u001B[38;5;21;01mnumpy\u001B[39;00m \u001B[38;5;28;01mas\u001B[39;00m \u001B[38;5;21;01mnp\u001B[39;00m\n\u001B[1;32m----> 6\u001B[0m \u001B[38;5;28;01mimport\u001B[39;00m \u001B[38;5;21;01msklearn\u001B[39;00m\u001B[38;5;21;01m.\u001B[39;00m\u001B[38;5;21;01mmetrics\u001B[39;00m\n\u001B[0;32m      7\u001B[0m \u001B[38;5;28;01mfrom\u001B[39;00m \u001B[38;5;21;01mmetrics\u001B[39;00m\u001B[38;5;21;01m.\u001B[39;00m\u001B[38;5;21;01mmetrics_base\u001B[39;00m \u001B[38;5;28;01mimport\u001B[39;00m MetricsBase\n\u001B[0;32m      8\u001B[0m \u001B[38;5;28;01mfrom\u001B[39;00m \u001B[38;5;21;01mmetrics\u001B[39;00m\u001B[38;5;21;01m.\u001B[39;00m\u001B[38;5;21;01mutils\u001B[39;00m \u001B[38;5;28;01mimport\u001B[39;00m aux_get_size, aux_error_checking\n",
      "File \u001B[1;32m~\\.conda\\envs\\plotting\\lib\\site-packages\\sklearn\\metrics\\__init__.py:7\u001B[0m\n\u001B[0;32m      1\u001B[0m \u001B[38;5;124;03m\"\"\"\u001B[39;00m\n\u001B[0;32m      2\u001B[0m \u001B[38;5;124;03mThe :mod:`sklearn.metrics` module includes score functions, performance metrics\u001B[39;00m\n\u001B[0;32m      3\u001B[0m \u001B[38;5;124;03mand pairwise metrics and distance computations.\u001B[39;00m\n\u001B[0;32m      4\u001B[0m \u001B[38;5;124;03m\"\"\"\u001B[39;00m\n\u001B[1;32m----> 7\u001B[0m \u001B[38;5;28;01mfrom\u001B[39;00m \u001B[38;5;21;01m.\u001B[39;00m \u001B[38;5;28;01mimport\u001B[39;00m cluster\n\u001B[0;32m      8\u001B[0m \u001B[38;5;28;01mfrom\u001B[39;00m \u001B[38;5;21;01m.\u001B[39;00m\u001B[38;5;21;01m_classification\u001B[39;00m \u001B[38;5;28;01mimport\u001B[39;00m (\n\u001B[0;32m      9\u001B[0m     accuracy_score,\n\u001B[0;32m     10\u001B[0m     balanced_accuracy_score,\n\u001B[1;32m   (...)\u001B[0m\n\u001B[0;32m     27\u001B[0m     zero_one_loss,\n\u001B[0;32m     28\u001B[0m )\n\u001B[0;32m     29\u001B[0m \u001B[38;5;28;01mfrom\u001B[39;00m \u001B[38;5;21;01m.\u001B[39;00m\u001B[38;5;21;01m_dist_metrics\u001B[39;00m \u001B[38;5;28;01mimport\u001B[39;00m DistanceMetric\n",
      "File \u001B[1;32m~\\.conda\\envs\\plotting\\lib\\site-packages\\sklearn\\metrics\\cluster\\__init__.py:25\u001B[0m\n\u001B[0;32m      8\u001B[0m \u001B[38;5;28;01mfrom\u001B[39;00m \u001B[38;5;21;01m.\u001B[39;00m\u001B[38;5;21;01m_bicluster\u001B[39;00m \u001B[38;5;28;01mimport\u001B[39;00m consensus_score\n\u001B[0;32m      9\u001B[0m \u001B[38;5;28;01mfrom\u001B[39;00m \u001B[38;5;21;01m.\u001B[39;00m\u001B[38;5;21;01m_supervised\u001B[39;00m \u001B[38;5;28;01mimport\u001B[39;00m (\n\u001B[0;32m     10\u001B[0m     adjusted_mutual_info_score,\n\u001B[0;32m     11\u001B[0m     adjusted_rand_score,\n\u001B[1;32m   (...)\u001B[0m\n\u001B[0;32m     23\u001B[0m     v_measure_score,\n\u001B[0;32m     24\u001B[0m )\n\u001B[1;32m---> 25\u001B[0m \u001B[38;5;28;01mfrom\u001B[39;00m \u001B[38;5;21;01m.\u001B[39;00m\u001B[38;5;21;01m_unsupervised\u001B[39;00m \u001B[38;5;28;01mimport\u001B[39;00m (\n\u001B[0;32m     26\u001B[0m     calinski_harabasz_score,\n\u001B[0;32m     27\u001B[0m     davies_bouldin_score,\n\u001B[0;32m     28\u001B[0m     silhouette_samples,\n\u001B[0;32m     29\u001B[0m     silhouette_score,\n\u001B[0;32m     30\u001B[0m )\n\u001B[0;32m     32\u001B[0m __all__ \u001B[38;5;241m=\u001B[39m [\n\u001B[0;32m     33\u001B[0m     \u001B[38;5;124m\"\u001B[39m\u001B[38;5;124madjusted_mutual_info_score\u001B[39m\u001B[38;5;124m\"\u001B[39m,\n\u001B[0;32m     34\u001B[0m     \u001B[38;5;124m\"\u001B[39m\u001B[38;5;124mnormalized_mutual_info_score\u001B[39m\u001B[38;5;124m\"\u001B[39m,\n\u001B[1;32m   (...)\u001B[0m\n\u001B[0;32m     51\u001B[0m     \u001B[38;5;124m\"\u001B[39m\u001B[38;5;124mconsensus_score\u001B[39m\u001B[38;5;124m\"\u001B[39m,\n\u001B[0;32m     52\u001B[0m ]\n",
      "File \u001B[1;32m~\\.conda\\envs\\plotting\\lib\\site-packages\\sklearn\\metrics\\cluster\\_unsupervised.py:15\u001B[0m\n\u001B[0;32m     12\u001B[0m \u001B[38;5;28;01mimport\u001B[39;00m \u001B[38;5;21;01mnumpy\u001B[39;00m \u001B[38;5;28;01mas\u001B[39;00m \u001B[38;5;21;01mnp\u001B[39;00m\n\u001B[0;32m     13\u001B[0m \u001B[38;5;28;01mfrom\u001B[39;00m \u001B[38;5;21;01mscipy\u001B[39;00m\u001B[38;5;21;01m.\u001B[39;00m\u001B[38;5;21;01msparse\u001B[39;00m \u001B[38;5;28;01mimport\u001B[39;00m issparse\n\u001B[1;32m---> 15\u001B[0m \u001B[38;5;28;01mfrom\u001B[39;00m \u001B[38;5;21;01m.\u001B[39;00m\u001B[38;5;21;01m.\u001B[39;00m\u001B[38;5;21;01m.\u001B[39;00m\u001B[38;5;21;01mpreprocessing\u001B[39;00m \u001B[38;5;28;01mimport\u001B[39;00m LabelEncoder\n\u001B[0;32m     16\u001B[0m \u001B[38;5;28;01mfrom\u001B[39;00m \u001B[38;5;21;01m.\u001B[39;00m\u001B[38;5;21;01m.\u001B[39;00m\u001B[38;5;21;01m.\u001B[39;00m\u001B[38;5;21;01mutils\u001B[39;00m \u001B[38;5;28;01mimport\u001B[39;00m _safe_indexing, check_random_state, check_X_y\n\u001B[0;32m     17\u001B[0m \u001B[38;5;28;01mfrom\u001B[39;00m \u001B[38;5;21;01m.\u001B[39;00m\u001B[38;5;21;01m.\u001B[39;00m\u001B[38;5;21;01m.\u001B[39;00m\u001B[38;5;21;01mutils\u001B[39;00m\u001B[38;5;21;01m.\u001B[39;00m\u001B[38;5;21;01m_param_validation\u001B[39;00m \u001B[38;5;28;01mimport\u001B[39;00m (\n\u001B[0;32m     18\u001B[0m     Interval,\n\u001B[0;32m     19\u001B[0m     StrOptions,\n\u001B[0;32m     20\u001B[0m     validate_params,\n\u001B[0;32m     21\u001B[0m )\n",
      "File \u001B[1;32m~\\.conda\\envs\\plotting\\lib\\site-packages\\sklearn\\preprocessing\\__init__.py:6\u001B[0m\n\u001B[0;32m      1\u001B[0m \u001B[38;5;124;03m\"\"\"\u001B[39;00m\n\u001B[0;32m      2\u001B[0m \u001B[38;5;124;03mThe :mod:`sklearn.preprocessing` module includes scaling, centering,\u001B[39;00m\n\u001B[0;32m      3\u001B[0m \u001B[38;5;124;03mnormalization, binarization methods.\u001B[39;00m\n\u001B[0;32m      4\u001B[0m \u001B[38;5;124;03m\"\"\"\u001B[39;00m\n\u001B[1;32m----> 6\u001B[0m \u001B[38;5;28;01mfrom\u001B[39;00m \u001B[38;5;21;01m.\u001B[39;00m\u001B[38;5;21;01m_data\u001B[39;00m \u001B[38;5;28;01mimport\u001B[39;00m (\n\u001B[0;32m      7\u001B[0m     Binarizer,\n\u001B[0;32m      8\u001B[0m     KernelCenterer,\n\u001B[0;32m      9\u001B[0m     MaxAbsScaler,\n\u001B[0;32m     10\u001B[0m     MinMaxScaler,\n\u001B[0;32m     11\u001B[0m     Normalizer,\n\u001B[0;32m     12\u001B[0m     PowerTransformer,\n\u001B[0;32m     13\u001B[0m     QuantileTransformer,\n\u001B[0;32m     14\u001B[0m     RobustScaler,\n\u001B[0;32m     15\u001B[0m     StandardScaler,\n\u001B[0;32m     16\u001B[0m     add_dummy_feature,\n\u001B[0;32m     17\u001B[0m     binarize,\n\u001B[0;32m     18\u001B[0m     maxabs_scale,\n\u001B[0;32m     19\u001B[0m     minmax_scale,\n\u001B[0;32m     20\u001B[0m     normalize,\n\u001B[0;32m     21\u001B[0m     power_transform,\n\u001B[0;32m     22\u001B[0m     quantile_transform,\n\u001B[0;32m     23\u001B[0m     robust_scale,\n\u001B[0;32m     24\u001B[0m     scale,\n\u001B[0;32m     25\u001B[0m )\n\u001B[0;32m     26\u001B[0m \u001B[38;5;28;01mfrom\u001B[39;00m \u001B[38;5;21;01m.\u001B[39;00m\u001B[38;5;21;01m_discretization\u001B[39;00m \u001B[38;5;28;01mimport\u001B[39;00m KBinsDiscretizer\n\u001B[0;32m     27\u001B[0m \u001B[38;5;28;01mfrom\u001B[39;00m \u001B[38;5;21;01m.\u001B[39;00m\u001B[38;5;21;01m_encoders\u001B[39;00m \u001B[38;5;28;01mimport\u001B[39;00m OneHotEncoder, OrdinalEncoder\n",
      "File \u001B[1;32m~\\.conda\\envs\\plotting\\lib\\site-packages\\sklearn\\preprocessing\\_data.py:27\u001B[0m\n\u001B[0;32m     25\u001B[0m \u001B[38;5;28;01mfrom\u001B[39;00m \u001B[38;5;21;01m.\u001B[39;00m\u001B[38;5;21;01m.\u001B[39;00m\u001B[38;5;21;01mutils\u001B[39;00m \u001B[38;5;28;01mimport\u001B[39;00m check_array\n\u001B[0;32m     26\u001B[0m \u001B[38;5;28;01mfrom\u001B[39;00m \u001B[38;5;21;01m.\u001B[39;00m\u001B[38;5;21;01m.\u001B[39;00m\u001B[38;5;21;01mutils\u001B[39;00m\u001B[38;5;21;01m.\u001B[39;00m\u001B[38;5;21;01m_param_validation\u001B[39;00m \u001B[38;5;28;01mimport\u001B[39;00m Interval, Options, StrOptions, validate_params\n\u001B[1;32m---> 27\u001B[0m \u001B[38;5;28;01mfrom\u001B[39;00m \u001B[38;5;21;01m.\u001B[39;00m\u001B[38;5;21;01m.\u001B[39;00m\u001B[38;5;21;01mutils\u001B[39;00m\u001B[38;5;21;01m.\u001B[39;00m\u001B[38;5;21;01mextmath\u001B[39;00m \u001B[38;5;28;01mimport\u001B[39;00m _incremental_mean_and_var, row_norms\n\u001B[0;32m     28\u001B[0m \u001B[38;5;28;01mfrom\u001B[39;00m \u001B[38;5;21;01m.\u001B[39;00m\u001B[38;5;21;01m.\u001B[39;00m\u001B[38;5;21;01mutils\u001B[39;00m\u001B[38;5;21;01m.\u001B[39;00m\u001B[38;5;21;01msparsefuncs\u001B[39;00m \u001B[38;5;28;01mimport\u001B[39;00m (\n\u001B[0;32m     29\u001B[0m     incr_mean_variance_axis,\n\u001B[0;32m     30\u001B[0m     inplace_column_scale,\n\u001B[0;32m     31\u001B[0m     mean_variance_axis,\n\u001B[0;32m     32\u001B[0m     min_max_axis,\n\u001B[0;32m     33\u001B[0m )\n\u001B[0;32m     34\u001B[0m \u001B[38;5;28;01mfrom\u001B[39;00m \u001B[38;5;21;01m.\u001B[39;00m\u001B[38;5;21;01m.\u001B[39;00m\u001B[38;5;21;01mutils\u001B[39;00m\u001B[38;5;21;01m.\u001B[39;00m\u001B[38;5;21;01msparsefuncs_fast\u001B[39;00m \u001B[38;5;28;01mimport\u001B[39;00m (\n\u001B[0;32m     35\u001B[0m     inplace_csr_row_normalize_l1,\n\u001B[0;32m     36\u001B[0m     inplace_csr_row_normalize_l2,\n\u001B[0;32m     37\u001B[0m )\n",
      "File \u001B[1;32m~\\.conda\\envs\\plotting\\lib\\site-packages\\sklearn\\utils\\extmath.py:22\u001B[0m\n\u001B[0;32m     20\u001B[0m \u001B[38;5;28;01mfrom\u001B[39;00m \u001B[38;5;21;01m.\u001B[39;00m\u001B[38;5;21;01m_array_api\u001B[39;00m \u001B[38;5;28;01mimport\u001B[39;00m _is_numpy_namespace, get_namespace\n\u001B[0;32m     21\u001B[0m \u001B[38;5;28;01mfrom\u001B[39;00m \u001B[38;5;21;01m.\u001B[39;00m\u001B[38;5;21;01m_logistic_sigmoid\u001B[39;00m \u001B[38;5;28;01mimport\u001B[39;00m _log_logistic_sigmoid\n\u001B[1;32m---> 22\u001B[0m \u001B[38;5;28;01mfrom\u001B[39;00m \u001B[38;5;21;01m.\u001B[39;00m\u001B[38;5;21;01msparsefuncs_fast\u001B[39;00m \u001B[38;5;28;01mimport\u001B[39;00m csr_row_norms\n\u001B[0;32m     23\u001B[0m \u001B[38;5;28;01mfrom\u001B[39;00m \u001B[38;5;21;01m.\u001B[39;00m\u001B[38;5;21;01mvalidation\u001B[39;00m \u001B[38;5;28;01mimport\u001B[39;00m check_array\n\u001B[0;32m     26\u001B[0m \u001B[38;5;28;01mdef\u001B[39;00m \u001B[38;5;21msquared_norm\u001B[39m(x):\n",
      "File \u001B[1;32m<frozen importlib._bootstrap>:404\u001B[0m, in \u001B[0;36mparent\u001B[1;34m(self)\u001B[0m\n",
      "\u001B[1;31mKeyboardInterrupt\u001B[0m: "
     ]
    }
   ],
   "source": [
    "import compress_pickle as cp\n",
    "from metrics.energy_estimation import MetricsEE"
   ]
  },
  {
   "cell_type": "code",
   "execution_count": 2,
   "outputs": [],
   "source": [
    "metrics_ee = MetricsEE()"
   ],
   "metadata": {
    "collapsed": false,
    "ExecuteTime": {
     "end_time": "2023-06-26T13:03:36.932749700Z",
     "start_time": "2023-06-26T13:03:36.917282900Z"
    }
   }
  },
  {
   "cell_type": "code",
   "execution_count": 3,
   "outputs": [],
   "source": [
    "experiments_gt_and_pred_df = cp.load('../experiments/NILMTK/experiments_gt_and_pred_df.gz')\n",
    "ee_metrics_dic_teca = cp.load('ee_metrics_dic_teca.gz')"
   ],
   "metadata": {
    "collapsed": false,
    "ExecuteTime": {
     "end_time": "2023-06-26T13:03:56.292601200Z",
     "start_time": "2023-06-26T13:03:36.932749700Z"
    }
   }
  },
  {
   "cell_type": "code",
   "execution_count": 499,
   "outputs": [],
   "source": [
    "for experiment in experiments_gt_and_pred_df:\n",
    "    gt = experiments_gt_and_pred_df[experiment]['gt']\n",
    "    pred = experiments_gt_and_pred_df[experiment]['pred']\n",
    "    ee_metrics = metrics_ee.check_metrics(gt,\n",
    "                                           pred,\n",
    "                                           metric_list=['re', 'cv_rmsd', 'rmse', 'abse', 'mae',\n",
    "                                                        'ae', 'sde', 'rsquared', 'psde', 'ee',\n",
    "                                                        'eav1', 'mr_micro', 'mr_feel', 'cep',\n",
    "                                                        'MRuMR_macro', 'sem', 'fee',\n",
    "                                                        'etea', 'dev']\n",
    "                                           )\n",
    "    ee_metrics_dic_teca.update({experiment: ee_metrics})"
   ],
   "metadata": {
    "collapsed": false,
    "ExecuteTime": {
     "end_time": "2023-06-26T13:09:52.393218200Z",
     "start_time": "2023-06-26T13:06:49.288198100Z"
    }
   }
  },
  {
   "cell_type": "code",
   "execution_count": 500,
   "outputs": [],
   "source": [
    "cp.dump(ee_metrics_dic_teca, 'ee_metrics_dic_teca.gz', compression='gzip')"
   ],
   "metadata": {
    "collapsed": false,
    "ExecuteTime": {
     "end_time": "2023-06-26T13:11:36.031021200Z",
     "start_time": "2023-06-26T13:11:35.983494900Z"
    }
   }
  }
 ],
 "metadata": {
  "kernelspec": {
   "display_name": "Python 3",
   "language": "python",
   "name": "python3"
  },
  "language_info": {
   "codemirror_mode": {
    "name": "ipython",
    "version": 2
   },
   "file_extension": ".py",
   "mimetype": "text/x-python",
   "name": "python",
   "nbconvert_exporter": "python",
   "pygments_lexer": "ipython2",
   "version": "2.7.6"
  }
 },
 "nbformat": 4,
 "nbformat_minor": 0
}
