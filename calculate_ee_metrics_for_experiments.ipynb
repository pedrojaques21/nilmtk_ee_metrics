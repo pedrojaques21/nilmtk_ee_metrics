{
 "cells": [
  {
   "cell_type": "code",
   "execution_count": 1,
   "metadata": {
    "collapsed": true,
    "ExecuteTime": {
     "end_time": "2023-07-03T14:51:30.819265400Z",
     "start_time": "2023-07-03T14:51:28.572843500Z"
    }
   },
   "outputs": [
    {
     "ename": "ModuleNotFoundError",
     "evalue": "No module named 'sklearn'",
     "output_type": "error",
     "traceback": [
      "\u001B[1;31m---------------------------------------------------------------------------\u001B[0m",
      "\u001B[1;31mModuleNotFoundError\u001B[0m                       Traceback (most recent call last)",
      "Cell \u001B[1;32mIn[1], line 2\u001B[0m\n\u001B[0;32m      1\u001B[0m \u001B[38;5;28;01mimport\u001B[39;00m \u001B[38;5;21;01mcompress_pickle\u001B[39;00m \u001B[38;5;28;01mas\u001B[39;00m \u001B[38;5;21;01mcp\u001B[39;00m\n\u001B[1;32m----> 2\u001B[0m \u001B[38;5;28;01mfrom\u001B[39;00m \u001B[38;5;21;01mmetrics\u001B[39;00m\u001B[38;5;21;01m.\u001B[39;00m\u001B[38;5;21;01menergy_estimation\u001B[39;00m \u001B[38;5;28;01mimport\u001B[39;00m MetricsEE\n",
      "File \u001B[1;32m~\\OneDrive - Universidade da Madeira\\Universidade\\4º ANO\\2º SEMESTRE\\Projeto\\code\\metrics\\energy_estimation.py:6\u001B[0m\n\u001B[0;32m      3\u001B[0m \u001B[38;5;28;01mimport\u001B[39;00m \u001B[38;5;21;01mmath\u001B[39;00m\n\u001B[0;32m      5\u001B[0m \u001B[38;5;28;01mimport\u001B[39;00m \u001B[38;5;21;01mnumpy\u001B[39;00m \u001B[38;5;28;01mas\u001B[39;00m \u001B[38;5;21;01mnp\u001B[39;00m\n\u001B[1;32m----> 6\u001B[0m \u001B[38;5;28;01mimport\u001B[39;00m \u001B[38;5;21;01msklearn\u001B[39;00m\u001B[38;5;21;01m.\u001B[39;00m\u001B[38;5;21;01mmetrics\u001B[39;00m\n\u001B[0;32m      7\u001B[0m \u001B[38;5;28;01mfrom\u001B[39;00m \u001B[38;5;21;01mmetrics\u001B[39;00m\u001B[38;5;21;01m.\u001B[39;00m\u001B[38;5;21;01mmetrics_base\u001B[39;00m \u001B[38;5;28;01mimport\u001B[39;00m MetricsBase\n\u001B[0;32m      8\u001B[0m \u001B[38;5;28;01mfrom\u001B[39;00m \u001B[38;5;21;01mmetrics\u001B[39;00m\u001B[38;5;21;01m.\u001B[39;00m\u001B[38;5;21;01mutils\u001B[39;00m \u001B[38;5;28;01mimport\u001B[39;00m aux_get_size, aux_error_checking\n",
      "\u001B[1;31mModuleNotFoundError\u001B[0m: No module named 'sklearn'"
     ]
    }
   ],
   "source": [
    "import compress_pickle as cp\n",
    "from metrics.energy_estimation import MetricsEE"
   ]
  },
  {
   "cell_type": "code",
   "execution_count": 2,
   "outputs": [],
   "source": [
    "metrics_ee = MetricsEE()"
   ],
   "metadata": {
    "collapsed": false,
    "ExecuteTime": {
     "end_time": "2023-06-26T13:03:36.932749700Z",
     "start_time": "2023-06-26T13:03:36.917282900Z"
    }
   }
  },
  {
   "cell_type": "code",
   "execution_count": 3,
   "outputs": [],
   "source": [
    "experiments_gt_and_pred_df = cp.load('../experiments/NILMTK/experiments_gt_and_pred_df.gz')\n",
    "ee_metrics_dic_teca = cp.load('ee_metrics_dic_teca.gz')"
   ],
   "metadata": {
    "collapsed": false,
    "ExecuteTime": {
     "end_time": "2023-06-26T13:03:56.292601200Z",
     "start_time": "2023-06-26T13:03:36.932749700Z"
    }
   }
  },
  {
   "cell_type": "code",
   "execution_count": 499,
   "outputs": [],
   "source": [
    "for experiment in experiments_gt_and_pred_df:\n",
    "    gt = experiments_gt_and_pred_df[experiment]['gt'].values\n",
    "    pred = experiments_gt_and_pred_df[experiment]['pred'].values\n",
    "    # ee_metrics = metrics_ee.check_metrics(gt,\n",
    "    #                                       pred,\n",
    "    #                                       metric_list=['MRuMR_macro'],\n",
    "    #                                       #metric_list=['re', 'cv_rmsd', 'rmse', 'abse', 'mae',\n",
    "    #                                       #             'ae', 'sde', 'rsquared', 'psde', 'ee',\n",
    "    #                                       #             'eav1', 'mr_micro', 'mr_feel', 'cep',\n",
    "    #                                       #             'MRuMR_macro', 'sem', 'fee',\n",
    "    #                                       #             'etea', 'dev'],\n",
    "    #                                       interval='Year',\n",
    "    #                                       start_date='2015-01-01 00:00:00+00:00',\n",
    "    #                                       end_date='2015-04-29 23:59:50+01:00'\n",
    "    #                                       )\n",
    "    ee_metrics = metrics_ee.cmd_cep(gt, pred)\n",
    "    ee_metrics_dic_teca.update({experiment: ee_metrics})"
   ],
   "metadata": {
    "collapsed": false,
    "ExecuteTime": {
     "end_time": "2023-06-26T13:09:52.393218200Z",
     "start_time": "2023-06-26T13:06:49.288198100Z"
    }
   }
  },
  {
   "cell_type": "code",
   "execution_count": 500,
   "outputs": [],
   "source": [
    "cp.dump(ee_metrics_dic_teca, 'ee_metrics_dic_teca.gz', compression='gzip')"
   ],
   "metadata": {
    "collapsed": false,
    "ExecuteTime": {
     "end_time": "2023-06-26T13:11:36.031021200Z",
     "start_time": "2023-06-26T13:11:35.983494900Z"
    }
   }
  }
 ],
 "metadata": {
  "kernelspec": {
   "display_name": "Python 3",
   "language": "python",
   "name": "python3"
  },
  "language_info": {
   "codemirror_mode": {
    "name": "ipython",
    "version": 2
   },
   "file_extension": ".py",
   "mimetype": "text/x-python",
   "name": "python",
   "nbconvert_exporter": "python",
   "pygments_lexer": "ipython2",
   "version": "2.7.6"
  }
 },
 "nbformat": 4,
 "nbformat_minor": 0
}
